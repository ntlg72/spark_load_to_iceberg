{
 "cells": [
  {
   "cell_type": "code",
   "execution_count": 1,
   "id": "46d3f2a6-ed64-4b96-9d71-a86a824cf1b0",
   "metadata": {},
   "outputs": [],
   "source": [
    "import pyspark\n",
    "from pyspark.sql import SparkSession\n",
    "from pyspark.sql.types import StructType, StructField, IntegerType, StringType, DoubleType\n",
    "import os"
   ]
  },
  {
   "cell_type": "code",
   "execution_count": 2,
   "id": "4d940e3b-e3ad-47af-afff-cf5757526216",
   "metadata": {},
   "outputs": [],
   "source": [
    "CATALOG_URI = \"http://nessie:19120/api/v1\"  # Nessie Server URI\n",
    "WAREHOUSE = \"s3://warehouse/\"               # Minio Address to Write to\n",
    "STORAGE_URI = \"http://172.20.0.5:9000\"      # Minio IP address from docker inspect"
   ]
  },
  {
   "cell_type": "code",
   "execution_count": 3,
   "id": "76a5c663-97dc-46fc-90fa-b69ad02b631e",
   "metadata": {},
   "outputs": [],
   "source": [
    "conf = (\n",
    "    pyspark.SparkConf()\n",
    "        .setAppName('sales_data_app')\n",
    "        # Include necessary packages\n",
    "        .set('spark.jars.packages', 'org.postgresql:postgresql:42.7.3,org.apache.iceberg:iceberg-spark-runtime-3.5_2.12:1.5.0,org.projectnessie.nessie-integrations:nessie-spark-extensions-3.5_2.12:0.77.1,software.amazon.awssdk:bundle:2.24.8,software.amazon.awssdk:url-connection-client:2.24.8')\n",
    "        # Enable Iceberg and Nessie extensions\n",
    "        .set('spark.sql.extensions', 'org.apache.iceberg.spark.extensions.IcebergSparkSessionExtensions,org.projectnessie.spark.extensions.NessieSparkSessionExtensions')\n",
    "        # Configure Nessie catalog\n",
    "        .set('spark.sql.catalog.nessie', 'org.apache.iceberg.spark.SparkCatalog')\n",
    "        .set('spark.sql.catalog.nessie.uri', CATALOG_URI)\n",
    "        .set('spark.sql.catalog.nessie.ref', 'main')\n",
    "        .set('spark.sql.catalog.nessie.authentication.type', 'NONE')\n",
    "        .set('spark.sql.catalog.nessie.catalog-impl', 'org.apache.iceberg.nessie.NessieCatalog')\n",
    "        # Set Minio as the S3 endpoint for Iceberg storage\n",
    "        .set('spark.sql.catalog.nessie.s3.endpoint', STORAGE_URI)\n",
    "        .set('spark.sql.catalog.nessie.warehouse', WAREHOUSE)\n",
    "        .set('spark.sql.catalog.nessie.io-impl', 'org.apache.iceberg.aws.s3.S3FileIO')\n",
    ")\n"
   ]
  },
  {
   "cell_type": "code",
   "execution_count": 4,
   "id": "9c64c0ae-e43e-4d70-bf95-c428db17d5ed",
   "metadata": {},
   "outputs": [
    {
     "name": "stdout",
     "output_type": "stream",
     "text": [
      "Spark Session Started\n"
     ]
    }
   ],
   "source": [
    "spark = SparkSession.builder.config(conf=conf).getOrCreate()\n",
    "print(\"Spark Session Started\")"
   ]
  },
  {
   "cell_type": "code",
   "execution_count": 5,
   "id": "2abc8eb9-4f23-4514-ba7c-45c6c22359e7",
   "metadata": {},
   "outputs": [],
   "source": [
    "schema = StructType([\n",
    "    StructField(\"order_id\", IntegerType(), True),\n",
    "    StructField(\"customer_id\", IntegerType(), True),\n",
    "    StructField(\"product\", StringType(), True),\n",
    "    StructField(\"quantity\", IntegerType(), True),\n",
    "    StructField(\"price\", DoubleType(), True),\n",
    "    StructField(\"order_date\", StringType(), True)\n",
    "])"
   ]
  },
  {
   "cell_type": "code",
   "execution_count": 7,
   "id": "60e9e113-894d-4e0f-8bae-b3b01e0e4452",
   "metadata": {},
   "outputs": [],
   "source": [
    "sales_data = [\n",
    "    (1, 101, \"Laptop\", 1, 1000.00, \"2023-08-01\"),\n",
    "    (2, 102, \"Mouse\", 2, 25.50, \"2023-08-01\"),\n",
    "    (3, 103, \"Keyboard\", 1, 45.00, \"2023-08-01\"),\n",
    "    (1, 101, \"Laptop\", 1, 1000.00, \"2023-08-01\"),  # Duplicate\n",
    "    (4, 104, \"Monitor\", None, 200.00, \"2023-08-02\"),  # Missing quantity\n",
    "    (5, None, \"Mouse\", 1, 25.50, \"2023-08-02\")  # Missing customer_id\n",
    "]\n",
    "\n",
    "sales_df = spark.createDataFrame(sales_data, schema)"
   ]
  },
  {
   "cell_type": "code",
   "execution_count": 8,
   "id": "41b3b361-efcd-433d-a8ca-044665a1284b",
   "metadata": {},
   "outputs": [
    {
     "name": "stdout",
     "output_type": "stream",
     "text": [
      "++\n",
      "||\n",
      "++\n",
      "++\n",
      "\n"
     ]
    }
   ],
   "source": [
    "spark.sql(\"CREATE NAMESPACE IF NOT EXISTS nessie.sales;\").show()\n"
   ]
  },
  {
   "cell_type": "code",
   "execution_count": 9,
   "id": "90cab49b-3ae2-4240-93e7-65f71b02f3eb",
   "metadata": {},
   "outputs": [],
   "source": [
    "sales_df.writeTo(\"nessie.sales.sales_data_raw\").createOrReplace()\n"
   ]
  },
  {
   "cell_type": "code",
   "execution_count": 10,
   "id": "daf78367-a1bf-4b2b-b315-1c80750014ed",
   "metadata": {},
   "outputs": [
    {
     "name": "stdout",
     "output_type": "stream",
     "text": [
      "+--------+-----------+--------+--------+------+----------+\n",
      "|order_id|customer_id| product|quantity| price|order_date|\n",
      "+--------+-----------+--------+--------+------+----------+\n",
      "|       1|        101|  Laptop|       1|1000.0|2023-08-01|\n",
      "|       2|        102|   Mouse|       2|  25.5|2023-08-01|\n",
      "|       3|        103|Keyboard|       1|  45.0|2023-08-01|\n",
      "|       1|        101|  Laptop|       1|1000.0|2023-08-01|\n",
      "|       4|        104| Monitor|    NULL| 200.0|2023-08-02|\n",
      "|       5|       NULL|   Mouse|       1|  25.5|2023-08-02|\n",
      "+--------+-----------+--------+--------+------+----------+\n",
      "\n"
     ]
    }
   ],
   "source": [
    "spark.read.table(\"nessie.sales.sales_data_raw\").show()\n"
   ]
  },
  {
   "cell_type": "code",
   "execution_count": 11,
   "id": "ef73237f-131f-4d92-8205-ea143be1be44",
   "metadata": {},
   "outputs": [],
   "source": [
    "spark.stop()"
   ]
  },
  {
   "cell_type": "code",
   "execution_count": null,
   "id": "be077588-5ff2-4435-82c1-9d5fa195e3b3",
   "metadata": {},
   "outputs": [],
   "source": []
  }
 ],
 "metadata": {
  "kernelspec": {
   "display_name": "Python 3 (ipykernel)",
   "language": "python",
   "name": "python3"
  },
  "language_info": {
   "codemirror_mode": {
    "name": "ipython",
    "version": 3
   },
   "file_extension": ".py",
   "mimetype": "text/x-python",
   "name": "python",
   "nbconvert_exporter": "python",
   "pygments_lexer": "ipython3",
   "version": "3.11.6"
  }
 },
 "nbformat": 4,
 "nbformat_minor": 5
}
